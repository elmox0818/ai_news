{
  "nbformat": 4,
  "nbformat_minor": 0,
  "metadata": {
    "colab": {
      "name": "株価予想.ipynb",
      "provenance": [],
      "authorship_tag": "ABX9TyMfkCJGRxQeZMjmeHpnU284",
      "include_colab_link": true
    },
    "kernelspec": {
      "name": "python3",
      "display_name": "Python 3"
    }
  },
  "cells": [
    {
      "cell_type": "markdown",
      "metadata": {
        "id": "view-in-github",
        "colab_type": "text"
      },
      "source": [
        "<a href=\"https://colab.research.google.com/github/elmox0818/ai_news/blob/master/%E6%A0%AA%E4%BE%A1%E4%BA%88%E6%83%B3.ipynb\" target=\"_parent\"><img src=\"https://colab.research.google.com/assets/colab-badge.svg\" alt=\"Open In Colab\"/></a>"
      ]
    },
    {
      "cell_type": "markdown",
      "metadata": {
        "id": "nrrF_9_3VVQI",
        "colab_type": "text"
      },
      "source": [
        "# 機械学習であつまれどうぶつの森の株価を予想してみよう！\n",
        "\n",
        "前提知識\n",
        "- あつまれどうぶつの森って？\n",
        "> 任天堂から今年発売されたゲームです。コロナの影響でおうち時間が増えたため現在世界中で人気です。\n",
        "- どういうゲーム？\n",
        "> 無人島で虫や魚を捕まえて売ってお金を稼いだり、家を大きくしたり、株を揃えたりといった生活を楽しむゲームです。\n",
        "- 株がゲームの中にあるの？\n",
        "> ゲームの中の時間は現実世界とリンクしていて毎週日曜日の午前中にとあるキャラクターから株を購入することができます。その後一週間かけて株の売値が変動し、買値より高いタイミングで売ると利益を出すことができます。\n",
        "\n",
        "今回やりたいこと\n",
        "- 機械学習・AIの技術で株価の変動を予測する\n",
        "    - 一週間を通してどういう変化をするのか\n",
        "    - いつ売れば利益が出るのか\n",
        "\n",
        "## データの確認"
      ]
    },
    {
      "cell_type": "code",
      "metadata": {
        "id": "oy5lLc3F74Kt",
        "colab_type": "code",
        "colab": {
          "base_uri": "https://localhost:8080/",
          "height": 419
        },
        "outputId": "92909063-b678-41cb-a6ce-7c0202da4186"
      },
      "source": [
        "# おまじない\n",
        "%matplotlib inline\n",
        "\n",
        "# ライブラリのインポート\n",
        "import pandas as pd\n",
        "import numpy as np\n",
        "import seaborn as sns\n",
        "\n",
        "# データの読み込み、表示\n",
        "df = pd.read_csv(\"kabu_data.csv\")\n",
        "df"
      ],
      "execution_count": 3,
      "outputs": [
        {
          "output_type": "execute_result",
          "data": {
            "text/html": [
              "<div>\n",
              "<style scoped>\n",
              "    .dataframe tbody tr th:only-of-type {\n",
              "        vertical-align: middle;\n",
              "    }\n",
              "\n",
              "    .dataframe tbody tr th {\n",
              "        vertical-align: top;\n",
              "    }\n",
              "\n",
              "    .dataframe thead th {\n",
              "        text-align: right;\n",
              "    }\n",
              "</style>\n",
              "<table border=\"1\" class=\"dataframe\">\n",
              "  <thead>\n",
              "    <tr style=\"text-align: right;\">\n",
              "      <th></th>\n",
              "      <th>日曜AM</th>\n",
              "      <th>日曜PM</th>\n",
              "      <th>月曜AM</th>\n",
              "      <th>月曜PM</th>\n",
              "      <th>火曜AM</th>\n",
              "      <th>火曜PM</th>\n",
              "      <th>水曜AM</th>\n",
              "      <th>水曜PM</th>\n",
              "      <th>木曜AM</th>\n",
              "      <th>木曜PM</th>\n",
              "      <th>金曜AM</th>\n",
              "      <th>金曜PM</th>\n",
              "      <th>土曜AM</th>\n",
              "      <th>土曜PM</th>\n",
              "      <th>変動タイプ</th>\n",
              "    </tr>\n",
              "  </thead>\n",
              "  <tbody>\n",
              "    <tr>\n",
              "      <th>0</th>\n",
              "      <td>0</td>\n",
              "      <td>0</td>\n",
              "      <td>122</td>\n",
              "      <td>129</td>\n",
              "      <td>65</td>\n",
              "      <td>59</td>\n",
              "      <td>50</td>\n",
              "      <td>145</td>\n",
              "      <td>73</td>\n",
              "      <td>65</td>\n",
              "      <td>120</td>\n",
              "      <td>113</td>\n",
              "      <td>104</td>\n",
              "      <td>100</td>\n",
              "      <td>波型</td>\n",
              "    </tr>\n",
              "    <tr>\n",
              "      <th>1</th>\n",
              "      <td>0</td>\n",
              "      <td>0</td>\n",
              "      <td>82</td>\n",
              "      <td>108</td>\n",
              "      <td>187</td>\n",
              "      <td>576</td>\n",
              "      <td>290</td>\n",
              "      <td>259</td>\n",
              "      <td>44</td>\n",
              "      <td>40</td>\n",
              "      <td>59</td>\n",
              "      <td>75</td>\n",
              "      <td>45</td>\n",
              "      <td>72</td>\n",
              "      <td>跳ね大型</td>\n",
              "    </tr>\n",
              "    <tr>\n",
              "      <th>2</th>\n",
              "      <td>0</td>\n",
              "      <td>0</td>\n",
              "      <td>93</td>\n",
              "      <td>103</td>\n",
              "      <td>123</td>\n",
              "      <td>113</td>\n",
              "      <td>85</td>\n",
              "      <td>55</td>\n",
              "      <td>47</td>\n",
              "      <td>109</td>\n",
              "      <td>58</td>\n",
              "      <td>51</td>\n",
              "      <td>46</td>\n",
              "      <td>103</td>\n",
              "      <td>波型</td>\n",
              "    </tr>\n",
              "    <tr>\n",
              "      <th>3</th>\n",
              "      <td>0</td>\n",
              "      <td>0</td>\n",
              "      <td>76</td>\n",
              "      <td>71</td>\n",
              "      <td>67</td>\n",
              "      <td>62</td>\n",
              "      <td>58</td>\n",
              "      <td>115</td>\n",
              "      <td>102</td>\n",
              "      <td>107</td>\n",
              "      <td>155</td>\n",
              "      <td>150</td>\n",
              "      <td>54</td>\n",
              "      <td>50</td>\n",
              "      <td>跳ね小型</td>\n",
              "    </tr>\n",
              "    <tr>\n",
              "      <th>4</th>\n",
              "      <td>0</td>\n",
              "      <td>0</td>\n",
              "      <td>40</td>\n",
              "      <td>35</td>\n",
              "      <td>31</td>\n",
              "      <td>98</td>\n",
              "      <td>131</td>\n",
              "      <td>124</td>\n",
              "      <td>142</td>\n",
              "      <td>138</td>\n",
              "      <td>28</td>\n",
              "      <td>23</td>\n",
              "      <td>19</td>\n",
              "      <td>15</td>\n",
              "      <td>跳ね小型</td>\n",
              "    </tr>\n",
              "    <tr>\n",
              "      <th>...</th>\n",
              "      <td>...</td>\n",
              "      <td>...</td>\n",
              "      <td>...</td>\n",
              "      <td>...</td>\n",
              "      <td>...</td>\n",
              "      <td>...</td>\n",
              "      <td>...</td>\n",
              "      <td>...</td>\n",
              "      <td>...</td>\n",
              "      <td>...</td>\n",
              "      <td>...</td>\n",
              "      <td>...</td>\n",
              "      <td>...</td>\n",
              "      <td>...</td>\n",
              "      <td>...</td>\n",
              "    </tr>\n",
              "    <tr>\n",
              "      <th>5209</th>\n",
              "      <td>0</td>\n",
              "      <td>0</td>\n",
              "      <td>73</td>\n",
              "      <td>63</td>\n",
              "      <td>132</td>\n",
              "      <td>69</td>\n",
              "      <td>64</td>\n",
              "      <td>57</td>\n",
              "      <td>147</td>\n",
              "      <td>132</td>\n",
              "      <td>116</td>\n",
              "      <td>147</td>\n",
              "      <td>112</td>\n",
              "      <td>108</td>\n",
              "      <td>波型</td>\n",
              "    </tr>\n",
              "    <tr>\n",
              "      <th>5210</th>\n",
              "      <td>0</td>\n",
              "      <td>0</td>\n",
              "      <td>117</td>\n",
              "      <td>119</td>\n",
              "      <td>96</td>\n",
              "      <td>120</td>\n",
              "      <td>98</td>\n",
              "      <td>47</td>\n",
              "      <td>43</td>\n",
              "      <td>117</td>\n",
              "      <td>100</td>\n",
              "      <td>66</td>\n",
              "      <td>57</td>\n",
              "      <td>49</td>\n",
              "      <td>波型</td>\n",
              "    </tr>\n",
              "    <tr>\n",
              "      <th>5211</th>\n",
              "      <td>0</td>\n",
              "      <td>0</td>\n",
              "      <td>92</td>\n",
              "      <td>111</td>\n",
              "      <td>207</td>\n",
              "      <td>569</td>\n",
              "      <td>441</td>\n",
              "      <td>550</td>\n",
              "      <td>80</td>\n",
              "      <td>55</td>\n",
              "      <td>80</td>\n",
              "      <td>98</td>\n",
              "      <td>93</td>\n",
              "      <td>51</td>\n",
              "      <td>跳ね大型</td>\n",
              "    </tr>\n",
              "    <tr>\n",
              "      <th>5212</th>\n",
              "      <td>0</td>\n",
              "      <td>0</td>\n",
              "      <td>51</td>\n",
              "      <td>46</td>\n",
              "      <td>122</td>\n",
              "      <td>109</td>\n",
              "      <td>135</td>\n",
              "      <td>92</td>\n",
              "      <td>109</td>\n",
              "      <td>130</td>\n",
              "      <td>57</td>\n",
              "      <td>48</td>\n",
              "      <td>40</td>\n",
              "      <td>96</td>\n",
              "      <td>波型</td>\n",
              "    </tr>\n",
              "    <tr>\n",
              "      <th>5213</th>\n",
              "      <td>0</td>\n",
              "      <td>0</td>\n",
              "      <td>78</td>\n",
              "      <td>74</td>\n",
              "      <td>70</td>\n",
              "      <td>66</td>\n",
              "      <td>62</td>\n",
              "      <td>119</td>\n",
              "      <td>112</td>\n",
              "      <td>85</td>\n",
              "      <td>166</td>\n",
              "      <td>131</td>\n",
              "      <td>59</td>\n",
              "      <td>55</td>\n",
              "      <td>跳ね小型</td>\n",
              "    </tr>\n",
              "  </tbody>\n",
              "</table>\n",
              "<p>5214 rows × 15 columns</p>\n",
              "</div>"
            ],
            "text/plain": [
              "      日曜AM  日曜PM  月曜AM  月曜PM  火曜AM  火曜PM  ...  木曜PM  金曜AM  金曜PM  土曜AM  土曜PM  変動タイプ\n",
              "0        0     0   122   129    65    59  ...    65   120   113   104   100     波型\n",
              "1        0     0    82   108   187   576  ...    40    59    75    45    72   跳ね大型\n",
              "2        0     0    93   103   123   113  ...   109    58    51    46   103     波型\n",
              "3        0     0    76    71    67    62  ...   107   155   150    54    50   跳ね小型\n",
              "4        0     0    40    35    31    98  ...   138    28    23    19    15   跳ね小型\n",
              "...    ...   ...   ...   ...   ...   ...  ...   ...   ...   ...   ...   ...    ...\n",
              "5209     0     0    73    63   132    69  ...   132   116   147   112   108     波型\n",
              "5210     0     0   117   119    96   120  ...   117   100    66    57    49     波型\n",
              "5211     0     0    92   111   207   569  ...    55    80    98    93    51   跳ね大型\n",
              "5212     0     0    51    46   122   109  ...   130    57    48    40    96     波型\n",
              "5213     0     0    78    74    70    66  ...    85   166   131    59    55   跳ね小型\n",
              "\n",
              "[5214 rows x 15 columns]"
            ]
          },
          "metadata": {
            "tags": []
          },
          "execution_count": 3
        }
      ]
    },
    {
      "cell_type": "markdown",
      "metadata": {
        "id": "NZXiFPYQWI6x",
        "colab_type": "text"
      },
      "source": [
        "## 株価変動パターンの解説\n",
        "\n",
        "このゲームでは株価の変動パターンが4種類に分かれます。\n",
        "\n",
        "1. 波型\n",
        "> 株価が上下に変動\n",
        "2. 減少型\n",
        "> 一週間下がり続ける\n",
        "3. 跳ね小型\n",
        "> 最大で買った値段の2倍程度まで上昇\n",
        "4. 跳ね大型\n",
        "> 最大で買った値段の6倍程度まで上昇\n",
        "\n",
        "日曜日はプログラムでは0に設定されていて、月曜日　〜　土曜日にかけてそれぞれのパターンの決まったロジックで価格が決定されます。\n",
        "\n",
        "## データの整形"
      ]
    },
    {
      "cell_type": "code",
      "metadata": {
        "id": "7sqPwIkT8QeX",
        "colab_type": "code",
        "colab": {}
      },
      "source": [
        "# プログラムに読み込ませるために数値に置き換えます\n",
        "df = df.replace(\"波型\", 0)\n",
        "df = df.replace(\"減少型\", 1)\n",
        "df = df.replace(\"跳ね小型\", 2)\n",
        "df = df.replace(\"跳ね大型\", 3)\n",
        "\n",
        "# あとで参照するために辞書を作成しておきます\n",
        "show_type = [\n",
        "             {0: \"波型\"},\n",
        "             {1: \"減少型\"},\n",
        "             {2: \"跳ね小型\"},\n",
        "             {3: \"跳ね大型\"},\n",
        "]"
      ],
      "execution_count": 0,
      "outputs": []
    },
    {
      "cell_type": "code",
      "metadata": {
        "id": "U8NRFPxy9D72",
        "colab_type": "code",
        "outputId": "e1f39d5a-4ed2-474c-9d9d-f65bd4e4aa62",
        "colab": {
          "base_uri": "https://localhost:8080/",
          "height": 204
        }
      },
      "source": [
        "df.head()"
      ],
      "execution_count": 7,
      "outputs": [
        {
          "output_type": "execute_result",
          "data": {
            "text/html": [
              "<div>\n",
              "<style scoped>\n",
              "    .dataframe tbody tr th:only-of-type {\n",
              "        vertical-align: middle;\n",
              "    }\n",
              "\n",
              "    .dataframe tbody tr th {\n",
              "        vertical-align: top;\n",
              "    }\n",
              "\n",
              "    .dataframe thead th {\n",
              "        text-align: right;\n",
              "    }\n",
              "</style>\n",
              "<table border=\"1\" class=\"dataframe\">\n",
              "  <thead>\n",
              "    <tr style=\"text-align: right;\">\n",
              "      <th></th>\n",
              "      <th>日曜AM</th>\n",
              "      <th>日曜PM</th>\n",
              "      <th>月曜AM</th>\n",
              "      <th>月曜PM</th>\n",
              "      <th>火曜AM</th>\n",
              "      <th>火曜PM</th>\n",
              "      <th>水曜AM</th>\n",
              "      <th>水曜PM</th>\n",
              "      <th>木曜AM</th>\n",
              "      <th>木曜PM</th>\n",
              "      <th>金曜AM</th>\n",
              "      <th>金曜PM</th>\n",
              "      <th>土曜AM</th>\n",
              "      <th>土曜PM</th>\n",
              "      <th>変動タイプ</th>\n",
              "    </tr>\n",
              "  </thead>\n",
              "  <tbody>\n",
              "    <tr>\n",
              "      <th>0</th>\n",
              "      <td>0</td>\n",
              "      <td>0</td>\n",
              "      <td>122</td>\n",
              "      <td>129</td>\n",
              "      <td>65</td>\n",
              "      <td>59</td>\n",
              "      <td>50</td>\n",
              "      <td>145</td>\n",
              "      <td>73</td>\n",
              "      <td>65</td>\n",
              "      <td>120</td>\n",
              "      <td>113</td>\n",
              "      <td>104</td>\n",
              "      <td>100</td>\n",
              "      <td>0</td>\n",
              "    </tr>\n",
              "    <tr>\n",
              "      <th>1</th>\n",
              "      <td>0</td>\n",
              "      <td>0</td>\n",
              "      <td>82</td>\n",
              "      <td>108</td>\n",
              "      <td>187</td>\n",
              "      <td>576</td>\n",
              "      <td>290</td>\n",
              "      <td>259</td>\n",
              "      <td>44</td>\n",
              "      <td>40</td>\n",
              "      <td>59</td>\n",
              "      <td>75</td>\n",
              "      <td>45</td>\n",
              "      <td>72</td>\n",
              "      <td>3</td>\n",
              "    </tr>\n",
              "    <tr>\n",
              "      <th>2</th>\n",
              "      <td>0</td>\n",
              "      <td>0</td>\n",
              "      <td>93</td>\n",
              "      <td>103</td>\n",
              "      <td>123</td>\n",
              "      <td>113</td>\n",
              "      <td>85</td>\n",
              "      <td>55</td>\n",
              "      <td>47</td>\n",
              "      <td>109</td>\n",
              "      <td>58</td>\n",
              "      <td>51</td>\n",
              "      <td>46</td>\n",
              "      <td>103</td>\n",
              "      <td>0</td>\n",
              "    </tr>\n",
              "    <tr>\n",
              "      <th>3</th>\n",
              "      <td>0</td>\n",
              "      <td>0</td>\n",
              "      <td>76</td>\n",
              "      <td>71</td>\n",
              "      <td>67</td>\n",
              "      <td>62</td>\n",
              "      <td>58</td>\n",
              "      <td>115</td>\n",
              "      <td>102</td>\n",
              "      <td>107</td>\n",
              "      <td>155</td>\n",
              "      <td>150</td>\n",
              "      <td>54</td>\n",
              "      <td>50</td>\n",
              "      <td>2</td>\n",
              "    </tr>\n",
              "    <tr>\n",
              "      <th>4</th>\n",
              "      <td>0</td>\n",
              "      <td>0</td>\n",
              "      <td>40</td>\n",
              "      <td>35</td>\n",
              "      <td>31</td>\n",
              "      <td>98</td>\n",
              "      <td>131</td>\n",
              "      <td>124</td>\n",
              "      <td>142</td>\n",
              "      <td>138</td>\n",
              "      <td>28</td>\n",
              "      <td>23</td>\n",
              "      <td>19</td>\n",
              "      <td>15</td>\n",
              "      <td>2</td>\n",
              "    </tr>\n",
              "  </tbody>\n",
              "</table>\n",
              "</div>"
            ],
            "text/plain": [
              "   日曜AM  日曜PM  月曜AM  月曜PM  火曜AM  火曜PM  ...  木曜PM  金曜AM  金曜PM  土曜AM  土曜PM  変動タイプ\n",
              "0     0     0   122   129    65    59  ...    65   120   113   104   100      0\n",
              "1     0     0    82   108   187   576  ...    40    59    75    45    72      3\n",
              "2     0     0    93   103   123   113  ...   109    58    51    46   103      0\n",
              "3     0     0    76    71    67    62  ...   107   155   150    54    50      2\n",
              "4     0     0    40    35    31    98  ...   138    28    23    19    15      2\n",
              "\n",
              "[5 rows x 15 columns]"
            ]
          },
          "metadata": {
            "tags": []
          },
          "execution_count": 7
        }
      ]
    },
    {
      "cell_type": "code",
      "metadata": {
        "id": "h7RAeObvQ0uS",
        "colab_type": "code",
        "colab": {}
      },
      "source": [
        "# 日曜日は必ず0で邪魔になりそうなので省きます\n",
        "df = df.iloc[:, 2:]"
      ],
      "execution_count": 0,
      "outputs": []
    },
    {
      "cell_type": "code",
      "metadata": {
        "id": "fPOt-RA1Q6c0",
        "colab_type": "code",
        "outputId": "5300524e-441e-4f75-aa3f-8f0483c3684b",
        "colab": {
          "base_uri": "https://localhost:8080/",
          "height": 204
        }
      },
      "source": [
        "df.head()"
      ],
      "execution_count": 9,
      "outputs": [
        {
          "output_type": "execute_result",
          "data": {
            "text/html": [
              "<div>\n",
              "<style scoped>\n",
              "    .dataframe tbody tr th:only-of-type {\n",
              "        vertical-align: middle;\n",
              "    }\n",
              "\n",
              "    .dataframe tbody tr th {\n",
              "        vertical-align: top;\n",
              "    }\n",
              "\n",
              "    .dataframe thead th {\n",
              "        text-align: right;\n",
              "    }\n",
              "</style>\n",
              "<table border=\"1\" class=\"dataframe\">\n",
              "  <thead>\n",
              "    <tr style=\"text-align: right;\">\n",
              "      <th></th>\n",
              "      <th>月曜AM</th>\n",
              "      <th>月曜PM</th>\n",
              "      <th>火曜AM</th>\n",
              "      <th>火曜PM</th>\n",
              "      <th>水曜AM</th>\n",
              "      <th>水曜PM</th>\n",
              "      <th>木曜AM</th>\n",
              "      <th>木曜PM</th>\n",
              "      <th>金曜AM</th>\n",
              "      <th>金曜PM</th>\n",
              "      <th>土曜AM</th>\n",
              "      <th>土曜PM</th>\n",
              "      <th>変動タイプ</th>\n",
              "    </tr>\n",
              "  </thead>\n",
              "  <tbody>\n",
              "    <tr>\n",
              "      <th>0</th>\n",
              "      <td>122</td>\n",
              "      <td>129</td>\n",
              "      <td>65</td>\n",
              "      <td>59</td>\n",
              "      <td>50</td>\n",
              "      <td>145</td>\n",
              "      <td>73</td>\n",
              "      <td>65</td>\n",
              "      <td>120</td>\n",
              "      <td>113</td>\n",
              "      <td>104</td>\n",
              "      <td>100</td>\n",
              "      <td>0</td>\n",
              "    </tr>\n",
              "    <tr>\n",
              "      <th>1</th>\n",
              "      <td>82</td>\n",
              "      <td>108</td>\n",
              "      <td>187</td>\n",
              "      <td>576</td>\n",
              "      <td>290</td>\n",
              "      <td>259</td>\n",
              "      <td>44</td>\n",
              "      <td>40</td>\n",
              "      <td>59</td>\n",
              "      <td>75</td>\n",
              "      <td>45</td>\n",
              "      <td>72</td>\n",
              "      <td>3</td>\n",
              "    </tr>\n",
              "    <tr>\n",
              "      <th>2</th>\n",
              "      <td>93</td>\n",
              "      <td>103</td>\n",
              "      <td>123</td>\n",
              "      <td>113</td>\n",
              "      <td>85</td>\n",
              "      <td>55</td>\n",
              "      <td>47</td>\n",
              "      <td>109</td>\n",
              "      <td>58</td>\n",
              "      <td>51</td>\n",
              "      <td>46</td>\n",
              "      <td>103</td>\n",
              "      <td>0</td>\n",
              "    </tr>\n",
              "    <tr>\n",
              "      <th>3</th>\n",
              "      <td>76</td>\n",
              "      <td>71</td>\n",
              "      <td>67</td>\n",
              "      <td>62</td>\n",
              "      <td>58</td>\n",
              "      <td>115</td>\n",
              "      <td>102</td>\n",
              "      <td>107</td>\n",
              "      <td>155</td>\n",
              "      <td>150</td>\n",
              "      <td>54</td>\n",
              "      <td>50</td>\n",
              "      <td>2</td>\n",
              "    </tr>\n",
              "    <tr>\n",
              "      <th>4</th>\n",
              "      <td>40</td>\n",
              "      <td>35</td>\n",
              "      <td>31</td>\n",
              "      <td>98</td>\n",
              "      <td>131</td>\n",
              "      <td>124</td>\n",
              "      <td>142</td>\n",
              "      <td>138</td>\n",
              "      <td>28</td>\n",
              "      <td>23</td>\n",
              "      <td>19</td>\n",
              "      <td>15</td>\n",
              "      <td>2</td>\n",
              "    </tr>\n",
              "  </tbody>\n",
              "</table>\n",
              "</div>"
            ],
            "text/plain": [
              "   月曜AM  月曜PM  火曜AM  火曜PM  水曜AM  水曜PM  ...  木曜PM  金曜AM  金曜PM  土曜AM  土曜PM  変動タイプ\n",
              "0   122   129    65    59    50   145  ...    65   120   113   104   100      0\n",
              "1    82   108   187   576   290   259  ...    40    59    75    45    72      3\n",
              "2    93   103   123   113    85    55  ...   109    58    51    46   103      0\n",
              "3    76    71    67    62    58   115  ...   107   155   150    54    50      2\n",
              "4    40    35    31    98   131   124  ...   138    28    23    19    15      2\n",
              "\n",
              "[5 rows x 13 columns]"
            ]
          },
          "metadata": {
            "tags": []
          },
          "execution_count": 9
        }
      ]
    },
    {
      "cell_type": "markdown",
      "metadata": {
        "id": "uQMdAOvzcfHb",
        "colab_type": "text"
      },
      "source": [
        "## データの分割\n",
        "\n",
        "まずは月曜〜土曜の株価からどの変動タイプかを判定するモデルを作成しましょう。月曜から土曜日のデータと答えとなる変動タイプとに分割します。"
      ]
    },
    {
      "cell_type": "code",
      "metadata": {
        "id": "p-TH5wTLWlFv",
        "colab_type": "code",
        "outputId": "6dd0530e-b1d1-45bd-884b-24ec4ddc2c02",
        "colab": {
          "base_uri": "https://localhost:8080/",
          "height": 204
        }
      },
      "source": [
        "X = df.iloc[:, :-1]\n",
        "X.head()"
      ],
      "execution_count": 10,
      "outputs": [
        {
          "output_type": "execute_result",
          "data": {
            "text/html": [
              "<div>\n",
              "<style scoped>\n",
              "    .dataframe tbody tr th:only-of-type {\n",
              "        vertical-align: middle;\n",
              "    }\n",
              "\n",
              "    .dataframe tbody tr th {\n",
              "        vertical-align: top;\n",
              "    }\n",
              "\n",
              "    .dataframe thead th {\n",
              "        text-align: right;\n",
              "    }\n",
              "</style>\n",
              "<table border=\"1\" class=\"dataframe\">\n",
              "  <thead>\n",
              "    <tr style=\"text-align: right;\">\n",
              "      <th></th>\n",
              "      <th>月曜AM</th>\n",
              "      <th>月曜PM</th>\n",
              "      <th>火曜AM</th>\n",
              "      <th>火曜PM</th>\n",
              "      <th>水曜AM</th>\n",
              "      <th>水曜PM</th>\n",
              "      <th>木曜AM</th>\n",
              "      <th>木曜PM</th>\n",
              "      <th>金曜AM</th>\n",
              "      <th>金曜PM</th>\n",
              "      <th>土曜AM</th>\n",
              "      <th>土曜PM</th>\n",
              "    </tr>\n",
              "  </thead>\n",
              "  <tbody>\n",
              "    <tr>\n",
              "      <th>0</th>\n",
              "      <td>122</td>\n",
              "      <td>129</td>\n",
              "      <td>65</td>\n",
              "      <td>59</td>\n",
              "      <td>50</td>\n",
              "      <td>145</td>\n",
              "      <td>73</td>\n",
              "      <td>65</td>\n",
              "      <td>120</td>\n",
              "      <td>113</td>\n",
              "      <td>104</td>\n",
              "      <td>100</td>\n",
              "    </tr>\n",
              "    <tr>\n",
              "      <th>1</th>\n",
              "      <td>82</td>\n",
              "      <td>108</td>\n",
              "      <td>187</td>\n",
              "      <td>576</td>\n",
              "      <td>290</td>\n",
              "      <td>259</td>\n",
              "      <td>44</td>\n",
              "      <td>40</td>\n",
              "      <td>59</td>\n",
              "      <td>75</td>\n",
              "      <td>45</td>\n",
              "      <td>72</td>\n",
              "    </tr>\n",
              "    <tr>\n",
              "      <th>2</th>\n",
              "      <td>93</td>\n",
              "      <td>103</td>\n",
              "      <td>123</td>\n",
              "      <td>113</td>\n",
              "      <td>85</td>\n",
              "      <td>55</td>\n",
              "      <td>47</td>\n",
              "      <td>109</td>\n",
              "      <td>58</td>\n",
              "      <td>51</td>\n",
              "      <td>46</td>\n",
              "      <td>103</td>\n",
              "    </tr>\n",
              "    <tr>\n",
              "      <th>3</th>\n",
              "      <td>76</td>\n",
              "      <td>71</td>\n",
              "      <td>67</td>\n",
              "      <td>62</td>\n",
              "      <td>58</td>\n",
              "      <td>115</td>\n",
              "      <td>102</td>\n",
              "      <td>107</td>\n",
              "      <td>155</td>\n",
              "      <td>150</td>\n",
              "      <td>54</td>\n",
              "      <td>50</td>\n",
              "    </tr>\n",
              "    <tr>\n",
              "      <th>4</th>\n",
              "      <td>40</td>\n",
              "      <td>35</td>\n",
              "      <td>31</td>\n",
              "      <td>98</td>\n",
              "      <td>131</td>\n",
              "      <td>124</td>\n",
              "      <td>142</td>\n",
              "      <td>138</td>\n",
              "      <td>28</td>\n",
              "      <td>23</td>\n",
              "      <td>19</td>\n",
              "      <td>15</td>\n",
              "    </tr>\n",
              "  </tbody>\n",
              "</table>\n",
              "</div>"
            ],
            "text/plain": [
              "   月曜AM  月曜PM  火曜AM  火曜PM  水曜AM  水曜PM  木曜AM  木曜PM  金曜AM  金曜PM  土曜AM  土曜PM\n",
              "0   122   129    65    59    50   145    73    65   120   113   104   100\n",
              "1    82   108   187   576   290   259    44    40    59    75    45    72\n",
              "2    93   103   123   113    85    55    47   109    58    51    46   103\n",
              "3    76    71    67    62    58   115   102   107   155   150    54    50\n",
              "4    40    35    31    98   131   124   142   138    28    23    19    15"
            ]
          },
          "metadata": {
            "tags": []
          },
          "execution_count": 10
        }
      ]
    },
    {
      "cell_type": "code",
      "metadata": {
        "id": "5SMXV7uWWxaJ",
        "colab_type": "code",
        "outputId": "5d93d4e9-d949-4b2e-d49f-28ca89bc44d5",
        "colab": {
          "base_uri": "https://localhost:8080/",
          "height": 119
        }
      },
      "source": [
        "y = df.iloc[:, -1]\n",
        "y.head()"
      ],
      "execution_count": 11,
      "outputs": [
        {
          "output_type": "execute_result",
          "data": {
            "text/plain": [
              "0    0\n",
              "1    3\n",
              "2    0\n",
              "3    2\n",
              "4    2\n",
              "Name: 変動タイプ, dtype: int64"
            ]
          },
          "metadata": {
            "tags": []
          },
          "execution_count": 11
        }
      ]
    },
    {
      "cell_type": "markdown",
      "metadata": {
        "id": "NhmKAjSjdGti",
        "colab_type": "text"
      },
      "source": [
        "## 教師用データとテスト用データの作成\n",
        "\n",
        "機械学習では「教師用データ」と「テスト用データ」とに分割します。\n",
        "\n",
        "> 英単語帳を一冊買って、その内容を全て覚えたならば英語が完璧だと言えるでしょうか？その単語帳に載っていない単語に対しても意味を理解したり推測できて初めて英語ができると言えます。\n",
        "\n",
        "教師用データで学習を行い、テスト用データでその精度を測ります。"
      ]
    },
    {
      "cell_type": "code",
      "metadata": {
        "id": "aHFrbgvkUMIv",
        "colab_type": "code",
        "colab": {}
      },
      "source": [
        "# ライブラリを読み込み\n",
        "from sklearn.model_selection import train_test_split\n",
        "\n",
        "# データを分割します。テスト用には40%を割り当てます\n",
        "X_train, X_test, y_train, y_test = train_test_split(X, y, test_size=0.4, random_state=1)"
      ],
      "execution_count": 0,
      "outputs": []
    },
    {
      "cell_type": "markdown",
      "metadata": {
        "id": "FgcK7fLQe9sy",
        "colab_type": "text"
      },
      "source": [
        "## 機械学習スタート！"
      ]
    },
    {
      "cell_type": "code",
      "metadata": {
        "id": "_JHFUJXnUd09",
        "colab_type": "code",
        "colab": {
          "base_uri": "https://localhost:8080/",
          "height": 85
        },
        "outputId": "e0384ead-b081-4f85-bf86-779e11ba13e8"
      },
      "source": [
        "# ライブラリの読み込み\n",
        "from sklearn import svm\n",
        "clf = svm.SVC()\n",
        "clf.fit(X_train, y_train)"
      ],
      "execution_count": 13,
      "outputs": [
        {
          "output_type": "execute_result",
          "data": {
            "text/plain": [
              "SVC(C=1.0, break_ties=False, cache_size=200, class_weight=None, coef0=0.0,\n",
              "    decision_function_shape='ovr', degree=3, gamma='scale', kernel='rbf',\n",
              "    max_iter=-1, probability=False, random_state=None, shrinking=True,\n",
              "    tol=0.001, verbose=False)"
            ]
          },
          "metadata": {
            "tags": []
          },
          "execution_count": 13
        }
      ]
    },
    {
      "cell_type": "markdown",
      "metadata": {
        "id": "un3RVV7lfLrN",
        "colab_type": "text"
      },
      "source": [
        "## 果たして精度は・・・"
      ]
    },
    {
      "cell_type": "code",
      "metadata": {
        "id": "o4kCxKMRVP7k",
        "colab_type": "code",
        "outputId": "f70689e9-d910-432f-f5b2-23d7704baa20",
        "colab": {
          "base_uri": "https://localhost:8080/",
          "height": 34
        }
      },
      "source": [
        "clf.score(X_test, y_test)"
      ],
      "execution_count": 14,
      "outputs": [
        {
          "output_type": "execute_result",
          "data": {
            "text/plain": [
              "0.9908916586768935"
            ]
          },
          "metadata": {
            "tags": []
          },
          "execution_count": 14
        }
      ]
    },
    {
      "cell_type": "markdown",
      "metadata": {
        "id": "gyfk6HYGfVG1",
        "colab_type": "text"
      },
      "source": [
        "## 99%の正答率を得ることができました！\n",
        "\n",
        "つまり月曜日〜土曜日の全ての株価があればほぼ確実に変動タイプが判定できるということです。\n",
        "\n",
        "では週のどのタイミングで高い判定率を得ることができるでしょうか？"
      ]
    },
    {
      "cell_type": "code",
      "metadata": {
        "id": "FFhx0-STgWct",
        "colab_type": "code",
        "colab": {}
      },
      "source": [
        "def show_accuracy(dataframe, data_number=11):\n",
        "    X = dataframe.iloc[:, :data_number]\n",
        "    y = dataframe.iloc[:, -1]\n",
        "    X_train, X_test, y_train, y_test = train_test_split(X, y, test_size=0.4, random_state=1)\n",
        "    clf = svm.SVC()\n",
        "    clf.fit(X_train, y_train)\n",
        "    return clf.score(X_test, y_test)"
      ],
      "execution_count": 0,
      "outputs": []
    },
    {
      "cell_type": "code",
      "metadata": {
        "id": "s9bD72kRhAAT",
        "colab_type": "code",
        "colab": {}
      },
      "source": [
        "ac_list = []\n",
        "for i in range(1, 13):\n",
        "    ac = show_accuracy(df, i)\n",
        "    ac_list.append(ac)"
      ],
      "execution_count": 0,
      "outputs": []
    },
    {
      "cell_type": "code",
      "metadata": {
        "id": "hPDySIDYtH8l",
        "colab_type": "code",
        "colab": {
          "base_uri": "https://localhost:8080/",
          "height": 265
        },
        "outputId": "0d0b8457-a134-451d-a848-23741645a31c"
      },
      "source": [
        "import matplotlib.pyplot as plt\n",
        "yobi = [i for i in range(1, 13)]\n",
        "plt.plot(yobi, ac_list)\n",
        "plt.show()"
      ],
      "execution_count": 58,
      "outputs": [
        {
          "output_type": "display_data",
          "data": {
            "image/png": "[encoded data removed]",
            "text/plain": [
              "<Figure size 432x288 with 1 Axes>"
            ]
          },
          "metadata": {
            "tags": [],
            "needs_background": "light"
          }
        }
      ]
    },
    {
      "cell_type": "markdown",
      "metadata": {
        "id": "FJoL308iyj5B",
        "colab_type": "text"
      },
      "source": [
        "高い精度を得るためには水曜日か木曜日までの情報が必要のようです・・・"
      ]
    },
    {
      "cell_type": "code",
      "metadata": {
        "id": "q19-CeoyuDEg",
        "colab_type": "code",
        "colab": {}
      },
      "source": [
        "def predict_type(dataframe, input_data):\n",
        "    data_number = len(input_data[0])\n",
        "    X = dataframe.iloc[:, :data_number]\n",
        "    y = dataframe.iloc[:, -1]\n",
        "    X_train, X_test, y_train, y_test = train_test_split(X, y, test_size=0.4, random_state=1)\n",
        "    clf = svm.SVC()\n",
        "    clf.fit(X_train, y_train)\n",
        "    accurary = clf.score(X_test, y_test)\n",
        "    kabu_type = clf.predict(input_data)\n",
        "    return accurary, show_type[kabu_type[0]]"
      ],
      "execution_count": 0,
      "outputs": []
    },
    {
      "cell_type": "markdown",
      "metadata": {
        "id": "Y4JFvOjgys-s",
        "colab_type": "text"
      },
      "source": [
        "実際の値で予想してみましょう！今週の私の村の株価を入力値としてみます"
      ]
    },
    {
      "cell_type": "code",
      "metadata": {
        "id": "xJmHBz_kWT0x",
        "colab_type": "code",
        "colab": {}
      },
      "source": [
        "input_data = [[98, 144, 178]]\n",
        "type_accuracy, type_name = predict_type(df, input_data)"
      ],
      "execution_count": 0,
      "outputs": []
    },
    {
      "cell_type": "code",
      "metadata": {
        "id": "vqU4WeAFvAgn",
        "colab_type": "code",
        "colab": {
          "base_uri": "https://localhost:8080/",
          "height": 34
        },
        "outputId": "fc75887b-60dd-4474-afdd-8afcd7a91212"
      },
      "source": [
        "print(type_accuracy, type_name)"
      ],
      "execution_count": 54,
      "outputs": [
        {
          "output_type": "stream",
          "text": [
            "0.7214765100671141 {3: '跳ね大型'}\n"
          ],
          "name": "stdout"
        }
      ]
    },
    {
      "cell_type": "markdown",
      "metadata": {
        "id": "W-1wjyEpy0yd",
        "colab_type": "text"
      },
      "source": [
        "大正解！・・・このあとなんと613ベルと高騰しました"
      ]
    },
    {
      "cell_type": "code",
      "metadata": {
        "id": "ACZC6fgky9aQ",
        "colab_type": "code",
        "colab": {}
      },
      "source": [
        ""
      ],
      "execution_count": 0,
      "outputs": []
    }
  ]
}